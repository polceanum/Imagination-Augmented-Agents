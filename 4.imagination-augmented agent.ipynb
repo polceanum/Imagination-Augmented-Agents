{
 "cells": [
  {
   "cell_type": "code",
   "execution_count": 1,
   "metadata": {
    "collapsed": true
   },
   "outputs": [],
   "source": [
    "import numpy as np\n",
    "\n",
    "import torch\n",
    "import torch.nn as nn\n",
    "import torch.optim as optim\n",
    "import torch.nn.functional as F\n",
    "import torch.autograd as autograd\n",
    "\n",
    "from common.multiprocessing_env import SubprocVecEnv\n",
    "from common.minipacman import MiniPacman\n",
    "from common.environment_model import EnvModel\n",
    "from common.actor_critic import OnPolicy, ActorCritic, RolloutStorage"
   ]
  },
  {
   "cell_type": "code",
   "execution_count": 2,
   "metadata": {
    "collapsed": true
   },
   "outputs": [],
   "source": [
    "from IPython.display import clear_output\n",
    "import matplotlib.pyplot as plt\n",
    "%matplotlib inline"
   ]
  },
  {
   "cell_type": "markdown",
   "metadata": {},
   "source": [
    "<h4>USE CUDA</h4>"
   ]
  },
  {
   "cell_type": "code",
   "execution_count": 3,
   "metadata": {
    "collapsed": true
   },
   "outputs": [],
   "source": [
    "USE_CUDA = torch.cuda.is_available()\n",
    "Variable = lambda *args, **kwargs: autograd.Variable(*args, **kwargs).cuda() if USE_CUDA else autograd.Variable(*args, **kwargs)"
   ]
  },
  {
   "cell_type": "markdown",
   "metadata": {},
   "source": [
    "<h3>Pixels and Rewards</h3>"
   ]
  },
  {
   "cell_type": "code",
   "execution_count": 4,
   "metadata": {
    "collapsed": true
   },
   "outputs": [],
   "source": [
    "pixels = (\n",
    "    (0.0, 1.0, 0.0), \n",
    "    (0.0, 1.0, 1.0),\n",
    "    (0.0, 0.0, 1.0),\n",
    "    (1.0, 1.0, 1.0),\n",
    "    (1.0, 1.0, 0.0), \n",
    "    (0.0, 0.0, 0.0),\n",
    "    (1.0, 0.0, 0.0)\n",
    ")\n",
    "pixel_to_onehot = {pix:i for i, pix in enumerate(pixels)} \n",
    "num_pixels = len(pixels)\n",
    "\n",
    "task_rewards = {\n",
    "    \"regular\": [0, 1, 2, 3, 4, 5, 6, 7, 8, 9],\n",
    "    \"avoid\":   [0.1, -0.1, -5, -10, -20],\n",
    "    \"hunt\":    [0, 1, 10, -20],\n",
    "    \"ambush\":  [0, -0.1, 10, -20],\n",
    "    \"rush\":    [0, -0.1, 9.9]\n",
    "}\n",
    "reward_to_onehot = {mode: {reward:i for i, reward in enumerate(task_rewards[mode])} for mode in task_rewards.keys()}\n",
    "\n",
    "def pix_to_target(next_states):\n",
    "    target = []\n",
    "    for pixel in next_states.transpose(0, 2, 3, 1).reshape(-1, 3):\n",
    "        target.append(pixel_to_onehot[tuple([np.round(pixel[0]), np.round(pixel[1]), np.round(pixel[2])])])\n",
    "    return target\n",
    "\n",
    "def target_to_pix(imagined_states):\n",
    "    pixels = []\n",
    "    to_pixel = {value: key for key, value in pixel_to_onehot.items()}\n",
    "    for target in imagined_states:\n",
    "        pixels.append(list(to_pixel[target]))\n",
    "    return np.array(pixels)\n",
    "\n",
    "def rewards_to_target(mode, rewards):\n",
    "    target = []\n",
    "    for reward in rewards:\n",
    "        target.append(reward_to_onehot[mode][reward])\n",
    "    return target\n",
    "    \n",
    "def displayImage(image, step, reward):\n",
    "    s = str(step) + \" \" + str(reward)\n",
    "    plt.title(s)\n",
    "    plt.imshow(image)\n",
    "    plt.show()"
   ]
  },
  {
   "cell_type": "markdown",
   "metadata": {},
   "source": [
    "<h3>Creating environments</h3>"
   ]
  },
  {
   "cell_type": "code",
   "execution_count": 5,
   "metadata": {
    "collapsed": true
   },
   "outputs": [],
   "source": [
    "mode = \"regular\"\n",
    "num_envs = 16\n",
    "\n",
    "def make_env():\n",
    "    def _thunk():\n",
    "        env = MiniPacman(mode, 1000)\n",
    "        return env\n",
    "\n",
    "    return _thunk\n",
    "\n",
    "envs = [make_env() for i in range(num_envs)]\n",
    "envs = SubprocVecEnv(envs)\n",
    "\n",
    "state_shape = envs.observation_space.shape\n",
    "num_actions = envs.action_space.n\n",
    "num_rewards = len(task_rewards[mode])"
   ]
  },
  {
   "cell_type": "markdown",
   "metadata": {},
   "source": [
    "<h1>I2A components</h1> "
   ]
  },
  {
   "cell_type": "markdown",
   "metadata": {},
   "source": [
    "<p>The Rollout Encoder is an GRU with convolutional encoder which sequentially processes\n",
    "a trajectory</p>"
   ]
  },
  {
   "cell_type": "code",
   "execution_count": 6,
   "metadata": {
    "collapsed": true
   },
   "outputs": [],
   "source": [
    "class RolloutEncoder(nn.Module):\n",
    "    def __init__(self, in_shape, num_rewards, hidden_size):\n",
    "        super(RolloutEncoder, self).__init__()\n",
    "        \n",
    "        self.in_shape = in_shape\n",
    "        \n",
    "        self.features = nn.Sequential(\n",
    "            nn.Conv2d(in_shape[0], 16, kernel_size=3, stride=1),\n",
    "            nn.ReLU(),\n",
    "            nn.Conv2d(16, 16, kernel_size=3, stride=2),\n",
    "            nn.ReLU(),\n",
    "        )\n",
    "        \n",
    "        self.gru = nn.GRU(self.feature_size() + num_rewards, hidden_size)\n",
    "        \n",
    "    def forward(self, state, reward):\n",
    "        num_steps  = state.size(0)\n",
    "        batch_size = state.size(1)\n",
    "        \n",
    "        state = state.view(-1, *self.in_shape)\n",
    "        state = self.features(state)\n",
    "        state = state.view(num_steps, batch_size, -1)\n",
    "        rnn_input = torch.cat([state, reward], 2)\n",
    "        _, hidden = self.gru(rnn_input)\n",
    "        return hidden.squeeze(0)\n",
    "    \n",
    "    \n",
    "    def feature_size(self):\n",
    "        return self.features(autograd.Variable(torch.zeros(1, *self.in_shape))).view(1, -1).size(1)"
   ]
  },
  {
   "cell_type": "markdown",
   "metadata": {},
   "source": [
    "<p>For the model-free path of the I2A, it's used a standard network of convolutional layers plus one fully\n",
    "connected one</p>"
   ]
  },
  {
   "cell_type": "code",
   "execution_count": 7,
   "metadata": {
    "collapsed": true
   },
   "outputs": [],
   "source": [
    "class I2A(OnPolicy):\n",
    "    def __init__(self, in_shape, num_actions, num_rewards, hidden_size, imagination, full_rollout=True):\n",
    "        super(I2A, self).__init__()\n",
    "        \n",
    "        self.in_shape      = in_shape\n",
    "        self.num_actions   = num_actions\n",
    "        self.num_rewards   = num_rewards\n",
    "        \n",
    "        self.imagination = imagination\n",
    "        \n",
    "        self.features = nn.Sequential(\n",
    "            nn.Conv2d(in_shape[0], 16, kernel_size=3, stride=1),\n",
    "            nn.ReLU(),\n",
    "            nn.Conv2d(16, 16, kernel_size=3, stride=2),\n",
    "            nn.ReLU(),\n",
    "        )\n",
    "        \n",
    "        self.encoder = RolloutEncoder(in_shape, num_rewards, hidden_size)\n",
    "        \n",
    "        if full_rollout:\n",
    "            self.fc = nn.Sequential(\n",
    "                nn.Linear(self.feature_size() + num_actions * hidden_size, 256),\n",
    "                nn.ReLU(),\n",
    "            )\n",
    "        else:\n",
    "            self.fc = nn.Sequential(\n",
    "                nn.Linear(self.feature_size() + hidden_size, 256),\n",
    "                nn.ReLU(),\n",
    "            )\n",
    "        \n",
    "        self.critic  = nn.Linear(256, 1)\n",
    "        self.actor   = nn.Linear(256, num_actions)\n",
    "        \n",
    "    def forward(self, state):\n",
    "        batch_size = state.size(0)\n",
    "        \n",
    "        imagined_state, imagined_reward = self.imagination(state.data)\n",
    "        hidden = self.encoder(Variable(imagined_state), Variable(imagined_reward))\n",
    "        hidden = hidden.view(batch_size, -1)\n",
    "        \n",
    "        state = self.features(state)\n",
    "        state = state.view(state.size(0), -1)\n",
    "        \n",
    "        x = torch.cat([state, hidden], 1)\n",
    "        x = self.fc(x)\n",
    "        \n",
    "        logit = self.actor(x)\n",
    "        value = self.critic(x)\n",
    "        \n",
    "        return logit, value\n",
    "        \n",
    "    def feature_size(self):\n",
    "        return self.features(autograd.Variable(torch.zeros(1, *self.in_shape))).view(1, -1).size(1)"
   ]
  },
  {
   "cell_type": "markdown",
   "metadata": {},
   "source": [
    "<p>The imagination core (IC) predicts the next time step conditioned on an action sampled from the rollout policy (distil_policy).<br>\n",
    "See Figure 1 a. in the paper\n",
    "</p>"
   ]
  },
  {
   "cell_type": "code",
   "execution_count": 8,
   "metadata": {
    "collapsed": true
   },
   "outputs": [],
   "source": [
    "class ImaginationCore(object):\n",
    "    def __init__(self, num_rolouts, in_shape, num_actions, num_rewards, env_model, distil_policy, full_rollout=True):\n",
    "        self.num_rolouts  = num_rolouts\n",
    "        self.in_shape      = in_shape\n",
    "        self.num_actions   = num_actions\n",
    "        self.num_rewards   = num_rewards\n",
    "        self.env_model     = env_model\n",
    "        self.distil_policy = distil_policy\n",
    "        self.full_rollout  = full_rollout\n",
    "        \n",
    "    def __call__(self, state):\n",
    "        state      = state.cpu()\n",
    "        batch_size = state.size(0)\n",
    "\n",
    "        rollout_states  = []\n",
    "        rollout_rewards = []\n",
    "\n",
    "        if self.full_rollout:\n",
    "            state = state.unsqueeze(0).repeat(self.num_actions, 1, 1, 1, 1).view(-1, *self.in_shape)\n",
    "            action = torch.LongTensor([[i] for i in range(self.num_actions)]*batch_size)\n",
    "            action = action.view(-1)\n",
    "            rollout_batch_size = batch_size * self.num_actions\n",
    "        else:\n",
    "            action = self.distil_policy.act(Variable(state, volatile=True))\n",
    "            action = action.data.cpu()\n",
    "            rollout_batch_size = batch_size\n",
    "\n",
    "        for step in range(self.num_rolouts):\n",
    "            onehot_action = torch.zeros(rollout_batch_size, self.num_actions, *self.in_shape[1:])\n",
    "            onehot_action[range(rollout_batch_size), action] = 1\n",
    "            inputs = torch.cat([state, onehot_action], 1)\n",
    "\n",
    "            imagined_state, imagined_reward = self.env_model(Variable(inputs, volatile=True))\n",
    "\n",
    "            imagined_state  = F.softmax(imagined_state).max(1)[1].data.cpu()\n",
    "            imagined_reward = F.softmax(imagined_reward).max(1)[1].data.cpu()\n",
    "\n",
    "            imagined_state = target_to_pix(imagined_state.numpy())\n",
    "            imagined_state = torch.FloatTensor(imagined_state).view(rollout_batch_size, *self.in_shape)\n",
    "\n",
    "            onehot_reward = torch.zeros(rollout_batch_size, self.num_rewards)\n",
    "            onehot_reward[range(rollout_batch_size), imagined_reward] = 1\n",
    "\n",
    "            rollout_states.append(imagined_state.unsqueeze(0))\n",
    "            rollout_rewards.append(onehot_reward.unsqueeze(0))\n",
    "\n",
    "            state  = imagined_state\n",
    "            action = self.distil_policy.act(Variable(state, volatile=True))\n",
    "            action = action.data.cpu()\n",
    "        \n",
    "        return torch.cat(rollout_states), torch.cat(rollout_rewards)"
   ]
  },
  {
   "cell_type": "markdown",
   "metadata": {},
   "source": [
    "<h3>Full Rollout</h3>\n",
    "<p>\n",
    "if full_rollout == True: perform rollout for each possible action in the environment. <br>\n",
    "if full_rollout == False: perform rollout for one action from distil policy.\n",
    "</p>"
   ]
  },
  {
   "cell_type": "code",
   "execution_count": 9,
   "metadata": {
    "collapsed": true
   },
   "outputs": [],
   "source": [
    "full_rollout = True"
   ]
  },
  {
   "cell_type": "code",
   "execution_count": 11,
   "metadata": {
    "collapsed": true
   },
   "outputs": [],
   "source": [
    "env_model     = EnvModel(envs.observation_space.shape, num_pixels, num_rewards)\n",
    "env_model.load_state_dict(torch.load(\"env_model_\" + mode))\n",
    "\n",
    "distil_policy = ActorCritic(envs.observation_space.shape, envs.action_space.n)\n",
    "distil_optimizer = optim.Adam(distil_policy.parameters())\n",
    "\n",
    "imagination = ImaginationCore(1, state_shape, num_actions, num_rewards, env_model, distil_policy, full_rollout=full_rollout)\n",
    "\n",
    "actor_critic = I2A(state_shape, num_actions, num_rewards, 256, imagination, full_rollout=full_rollout)\n",
    "#rmsprop hyperparams:\n",
    "lr    = 7e-4\n",
    "eps   = 1e-5\n",
    "alpha = 0.99\n",
    "optimizer = optim.RMSprop(actor_critic.parameters(), lr, eps=eps, alpha=alpha)\n",
    "\n",
    "\n",
    "if USE_CUDA:\n",
    "    env_model     = env_model.cuda()\n",
    "    distil_policy = distil_policy.cuda()\n",
    "    actor_critic  = actor_critic.cuda()"
   ]
  },
  {
   "cell_type": "markdown",
   "metadata": {},
   "source": [
    "<h2>Training</h2>"
   ]
  },
  {
   "cell_type": "code",
   "execution_count": 30,
   "metadata": {
    "collapsed": true
   },
   "outputs": [],
   "source": [
    "gamma = 0.99\n",
    "entropy_coef = 0.01\n",
    "value_loss_coef = 0.5\n",
    "max_grad_norm = 0.5\n",
    "num_steps = 5\n",
    "num_frames = int(10e5)\n",
    "\n",
    "rollout = RolloutStorage(num_steps, num_envs, envs.observation_space.shape)\n",
    "rollout.cuda()\n",
    "\n",
    "all_rewards = []\n",
    "all_losses  = []"
   ]
  },
  {
   "cell_type": "code",
   "execution_count": 12,
   "metadata": {
    "collapsed": true
   },
   "outputs": [],
   "source": [
    "state = envs.reset()\n",
    "current_state = torch.FloatTensor(np.float32(state))\n",
    "\n",
    "rollout.states[0].copy_(current_state)\n",
    "\n",
    "episode_rewards = torch.zeros(num_envs, 1)\n",
    "final_rewards   = torch.zeros(num_envs, 1)\n",
    "\n",
    "for i_update in range(num_frames):\n",
    "\n",
    "    for step in range(num_steps):\n",
    "        if USE_CUDA:\n",
    "            current_state = current_state.cuda()\n",
    "        action = actor_critic.act(Variable(current_state))\n",
    "\n",
    "        next_state, reward, done, _ = envs.step(action.squeeze(1).cpu().data.numpy())\n",
    "\n",
    "        reward = torch.FloatTensor(reward).unsqueeze(1)\n",
    "        episode_rewards += reward\n",
    "        masks = torch.FloatTensor(1-np.array(done)).unsqueeze(1)\n",
    "        final_rewards *= masks\n",
    "        final_rewards += (1-masks) * episode_rewards\n",
    "        episode_rewards *= masks\n",
    "\n",
    "        if USE_CUDA:\n",
    "            masks = masks.cuda()\n",
    "\n",
    "        current_state = torch.FloatTensor(np.float32(next_state))\n",
    "        rollout.insert(step, current_state, action.data, reward, masks)\n",
    "\n",
    "\n",
    "    _, next_value = actor_critic(Variable(rollout.states[-1], volatile=True))\n",
    "    next_value = next_value.data\n",
    "\n",
    "    returns = rollout.compute_returns(next_value, gamma)\n",
    "\n",
    "    logit, action_log_probs, values, entropy = actor_critic.evaluate_actions(\n",
    "        Variable(rollout.states[:-1]).view(-1, *state_shape),\n",
    "        Variable(rollout.actions).view(-1, 1)\n",
    "    )\n",
    "    \n",
    "    distil_logit, _, _, _ = distil_policy.evaluate_actions(\n",
    "        Variable(rollout.states[:-1]).view(-1, *state_shape),\n",
    "        Variable(rollout.actions).view(-1, 1)\n",
    "    )\n",
    "        \n",
    "    distil_loss = 0.01 * (F.softmax(logit).detach() * F.log_softmax(distil_logit)).sum(1).mean()\n",
    "\n",
    "    values = values.view(num_steps, num_envs, 1)\n",
    "    action_log_probs = action_log_probs.view(num_steps, num_envs, 1)\n",
    "    advantages = Variable(returns) - values\n",
    "\n",
    "    value_loss = advantages.pow(2).mean()\n",
    "    action_loss = -(Variable(advantages.data) * action_log_probs).mean()\n",
    "\n",
    "    optimizer.zero_grad()\n",
    "    loss = value_loss * value_loss_coef + action_loss - entropy * entropy_coef\n",
    "    loss.backward()\n",
    "    nn.utils.clip_grad_norm(actor_critic.parameters(), max_grad_norm)\n",
    "    optimizer.step()\n",
    "    \n",
    "    distil_optimizer.zero_grad()\n",
    "    distil_loss.backward()\n",
    "    optimizer.step()\n",
    "    \n",
    "    if i_update % 100 == 0:\n",
    "        all_rewards.append(final_rewards.mean())\n",
    "        all_losses.append(loss.data[0])\n",
    "        \n",
    "        clear_output(True)\n",
    "        plt.figure(figsize=(20,5))\n",
    "        plt.subplot(131)\n",
    "        plt.title('epoch %s. reward: %s' % (i_update, np.mean(all_rewards[-10:])))\n",
    "        plt.plot(all_rewards)\n",
    "        plt.subplot(132)\n",
    "        plt.title('loss %s' % all_losses[-1])\n",
    "        plt.plot(all_losses)\n",
    "        plt.show()\n",
    "        \n",
    "    rollout.after_update()"
   ]
  },
  {
   "cell_type": "markdown",
   "metadata": {},
   "source": [
    "<h2>Save the model</h2>"
   ]
  },
  {
   "cell_type": "code",
   "execution_count": 11,
   "metadata": {
    "collapsed": true
   },
   "outputs": [],
   "source": [
    "torch.save(actor_critic.state_dict(), \"i2a_\" + mode)"
   ]
  }
 ],
 "metadata": {
  "kernelspec": {
   "display_name": "Python 3",
   "language": "python",
   "name": "python3"
  },
  "language_info": {
   "codemirror_mode": {
    "name": "ipython",
    "version": 3
   },
   "file_extension": ".py",
   "mimetype": "text/x-python",
   "name": "python",
   "nbconvert_exporter": "python",
   "pygments_lexer": "ipython3",
   "version": "3.5.2"
  }
 },
 "nbformat": 4,
 "nbformat_minor": 2
}
